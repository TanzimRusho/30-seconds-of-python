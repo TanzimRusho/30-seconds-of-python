{
  "nbformat": 4,
  "nbformat_minor": 0,
  "metadata": {
    "colab": {
      "provenance": [],
      "authorship_tag": "ABX9TyNNK7+xoDXjfrmfl7GPYqaO",
      "include_colab_link": true
    },
    "kernelspec": {
      "name": "python3",
      "display_name": "Python 3"
    },
    "language_info": {
      "name": "python"
    }
  },
  "cells": [
    {
      "cell_type": "markdown",
      "metadata": {
        "id": "view-in-github",
        "colab_type": "text"
      },
      "source": [
        "<a href=\"https://colab.research.google.com/github/TanzimRusho/30-seconds-of-python/blob/master/delivery_charge.ipynb\" target=\"_parent\"><img src=\"https://colab.research.google.com/assets/colab-badge.svg\" alt=\"Open In Colab\"/></a>"
      ]
    },
    {
      "cell_type": "code",
      "source": [
        "import math"
      ],
      "metadata": {
        "id": "WUr942i_6F9C"
      },
      "execution_count": 260,
      "outputs": []
    },
    {
      "cell_type": "code",
      "execution_count": 261,
      "metadata": {
        "id": "CFnlcc_0eSDr"
      },
      "outputs": [],
      "source": [
        "def main():    \n",
        "    print(\"Qty --- Sum_weight --- Charge\")\n",
        "\n",
        "    array = [0.3, 0.5, 0.1, 0.2, 0.1, 0.4, 0.1, 0.2, 0.1, 0.2, 0.4, 0.4, 0.1, \n",
        "             0.5, 0.5, 3.6,]\n",
        "    # array = [0.5, 0.4, 0.1, 0.5,]\n",
        "\n",
        "    charge = calculate_charge(array)\n",
        "\n",
        "    print(\"\\nFinal Charge\", charge)"
      ]
    },
    {
      "cell_type": "code",
      "source": [
        "def calculate_charge(array):\n",
        "    sum = 0.0\n",
        "    charge = 44\n",
        "    extra_charge = 0\n",
        "    \n",
        "    for idx, x in enumerate(array):\n",
        "        print('', idx+1, end='\\t    ')\n",
        "        sum += x\n",
        "        print(round(sum, 2), end='\\t\\t ')\n",
        "\n",
        "        if sum <= 2.0 and idx < 2:\n",
        "            charge = 44\n",
        "        elif sum <= 2.0 and idx > 7:\n",
        "            charge = 65\n",
        "        elif sum <= 2.0 and idx >= 2 and idx <= 7: \n",
        "            charge += 8 - idx\n",
        "            charge_upto_2kg = charge\n",
        "\n",
        "        elif sum > 2.0:\n",
        "            extra_charge = 10 * math.ceil((sum - 2.0)*2) \n",
        "            print(charge_upto_2kg + extra_charge)\n",
        "            continue\n",
        "\n",
        "        #print(charge)\n",
        "        print(charge)\n",
        "\n",
        "    charge += extra_charge\n",
        "\n",
        "    return charge"
      ],
      "metadata": {
        "id": "-2B5LZa7efyY"
      },
      "execution_count": 262,
      "outputs": []
    },
    {
      "cell_type": "code",
      "source": [
        "if __name__ == \"__main__\":\n",
        "    main()"
      ],
      "metadata": {
        "colab": {
          "base_uri": "https://localhost:8080/"
        },
        "id": "eiUiTuiGfg4e",
        "outputId": "c9d713e0-11b1-4c46-95d4-91765e61ce68"
      },
      "execution_count": 263,
      "outputs": [
        {
          "output_type": "stream",
          "name": "stdout",
          "text": [
            "Qty --- Sum_weight --- Charge\n",
            " 1\t    0.3\t\t 44\n",
            " 2\t    0.8\t\t 44\n",
            " 3\t    0.9\t\t 50\n",
            " 4\t    1.1\t\t 55\n",
            " 5\t    1.2\t\t 59\n",
            " 6\t    1.6\t\t 62\n",
            " 7\t    1.7\t\t 64\n",
            " 8\t    1.9\t\t 65\n",
            " 9\t    2.0\t\t 65\n",
            " 10\t    2.2\t\t 75\n",
            " 11\t    2.6\t\t 85\n",
            " 12\t    3.0\t\t 85\n",
            " 13\t    3.1\t\t 95\n",
            " 14\t    3.6\t\t 105\n",
            " 15\t    4.1\t\t 115\n",
            " 16\t    7.7\t\t 185\n",
            "\n",
            "Final Charge 185\n"
          ]
        }
      ]
    }
  ]
}