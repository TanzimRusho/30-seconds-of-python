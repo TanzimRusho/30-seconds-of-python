{
  "nbformat": 4,
  "nbformat_minor": 0,
  "metadata": {
    "colab": {
      "name": "folder_file_parsing.ipynb",
      "provenance": [],
      "mount_file_id": "1feVhnVZ-BHARf2XvksZE8f0E9b1CqMaO",
      "authorship_tag": "ABX9TyOUrq8WAQhdDEmtIl6Az5Qz",
      "include_colab_link": true
    },
    "kernelspec": {
      "name": "python3",
      "display_name": "Python 3"
    },
    "language_info": {
      "name": "python"
    }
  },
  "cells": [
    {
      "cell_type": "markdown",
      "metadata": {
        "id": "view-in-github",
        "colab_type": "text"
      },
      "source": [
        "<a href=\"https://colab.research.google.com/github/TanzimRusho/30-seconds-of-python/blob/master/folder_file_parsing.ipynb\" target=\"_parent\"><img src=\"https://colab.research.google.com/assets/colab-badge.svg\" alt=\"Open In Colab\"/></a>"
      ]
    },
    {
      "cell_type": "code",
      "execution_count": 1,
      "metadata": {
        "id": "_MKXG31k583n"
      },
      "outputs": [],
      "source": [
        "folder_path = '/content/drive/MyDrive/ROKOMARI/java_dev_python_works/data'"
      ]
    },
    {
      "cell_type": "code",
      "source": [
        "import os\n",
        "import re\n",
        "import subprocess "
      ],
      "metadata": {
        "id": "dJONzO_86ULr"
      },
      "execution_count": 2,
      "outputs": []
    },
    {
      "cell_type": "code",
      "source": [
        "import glob"
      ],
      "metadata": {
        "id": "laIvOPSnbC8g"
      },
      "execution_count": 3,
      "outputs": []
    },
    {
      "cell_type": "code",
      "source": [
        "import io"
      ],
      "metadata": {
        "id": "ygpFONoSccbY"
      },
      "execution_count": 4,
      "outputs": []
    },
    {
      "cell_type": "code",
      "source": [
        "!pip install pdfminer.six"
      ],
      "metadata": {
        "colab": {
          "base_uri": "https://localhost:8080/"
        },
        "id": "c5CIVPc5nW7E",
        "outputId": "c8140333-2c72-479e-a5fc-b30630669f1a"
      },
      "execution_count": 5,
      "outputs": [
        {
          "output_type": "stream",
          "name": "stdout",
          "text": [
            "Collecting pdfminer.six\n",
            "  Downloading pdfminer.six-20211012-py3-none-any.whl (5.6 MB)\n",
            "\u001b[K     |████████████████████████████████| 5.6 MB 2.3 MB/s \n",
            "\u001b[?25hRequirement already satisfied: chardet in /usr/local/lib/python3.7/dist-packages (from pdfminer.six) (3.0.4)\n",
            "Collecting cryptography\n",
            "  Downloading cryptography-36.0.1-cp36-abi3-manylinux_2_24_x86_64.whl (3.6 MB)\n",
            "\u001b[K     |████████████████████████████████| 3.6 MB 41.3 MB/s \n",
            "\u001b[?25hRequirement already satisfied: cffi>=1.12 in /usr/local/lib/python3.7/dist-packages (from cryptography->pdfminer.six) (1.15.0)\n",
            "Requirement already satisfied: pycparser in /usr/local/lib/python3.7/dist-packages (from cffi>=1.12->cryptography->pdfminer.six) (2.21)\n",
            "Installing collected packages: cryptography, pdfminer.six\n",
            "Successfully installed cryptography-36.0.1 pdfminer.six-20211012\n"
          ]
        }
      ]
    },
    {
      "cell_type": "code",
      "source": [
        "from pdfminer.high_level import extract_text"
      ],
      "metadata": {
        "id": "jd494fqanbtE"
      },
      "execution_count": 6,
      "outputs": []
    },
    {
      "cell_type": "code",
      "source": [
        "# EMAIL_REG = re.compile(r'[a-z0-9\\.\\-+_]+@[a-z0-9\\.\\-+_]+\\.[a-z]+')\n",
        " \n",
        " \n",
        "# def extract_text_from_pdf(pdf_path):\n",
        "#     return extract_text(pdf_path)\n",
        " \n",
        " \n",
        "# def extract_emails(resume_text):\n",
        "#     return re.findall(EMAIL_REG, resume_text)\n",
        "\n",
        "# count = 0\n",
        "\n",
        " \n",
        "# if __name__ == '__main__':\n",
        "#     for filename in glob.glob(os.path.join(folder_path, '*.pdf')):\n",
        "#         with open(os.path.join(os.getcwd(), filename), 'r', encoding=\"utf8\", errors='ignore') as f:\n",
        "#             text = extract_text_from_pdf(filename)\n",
        "#             emails = extract_emails(text)\n",
        "        \n",
        "#             if emails:\n",
        "#                 count += 1\n",
        "#                 print(emails[0])  # noqa: T001\n",
        "\n",
        "#     print(count)"
      ],
      "metadata": {
        "colab": {
          "base_uri": "https://localhost:8080/"
        },
        "id": "OLYGQa-x12Wl",
        "outputId": "740e7b68-ba77-4dc0-e736-09095dfd3113"
      },
      "execution_count": 7,
      "outputs": [
        {
          "output_type": "stream",
          "name": "stdout",
          "text": [
            "marufalam120@gmail.com\n",
            "ehteshamul.haque1998@gmail.com\n",
            "kaziasifjawwad@gmail.com\n",
            "shirinaete38@gmail.com\n",
            "kzhsown@gmail.com\n",
            "mehedi32.cse.hstu@gmail.com\n",
            "rangakhan@gmail.com\n",
            "nafisulbari@gmail.com\n",
            "manwar162098@bscse.uiu.ac.bd\n",
            "gmsifulalam93@gmail.com\n",
            "shahalam.tasin@gmail.com\n",
            "tanvirh.masum07@gmail.com\n",
            "marockydc@gmail.com\n",
            "shefatmd@gmail.com\n",
            "shossainshihab36@gmail.com\n",
            "aminarif.cs@gmail.com\n",
            "uchchwasdasdev@gmail.com\n",
            "lhossainduet094026@gmail.com\n",
            "umonkumar9719@gmail.com\n",
            "joniyed.bhuiyan@gmail.com\n",
            "salauddinnayub@gmail.com\n",
            "srnoor95@gmail.com\n",
            "ebrahimkhanobak@gmail.com\n",
            "zabir197281@gmail.com\n",
            "pervezdiu16@gmail.com\n",
            "ahnafahmed517@gmail.com\n",
            "foisalreza40@gmail.com\n",
            "mdmaharamali1995@gmail.com\n",
            "tanviraj8910@gmail.com\n",
            "shahrear002@gmail.com\n",
            "shuvopodder9@gmail.com\n",
            "akash.diu41@gmail.com\n",
            "asma.ul.hussna@g.bracu.ac.bd\n",
            "oaony005@gmail.com\n",
            "arkabhuiyancsedu@gmail.co\n",
            "skmilton10@gmail.com\n",
            "tanvir.joy2419@gmail.com\n",
            "mdsulaiman535@gmail.com\n",
            "tajuddinahmed450@gmail.com\n",
            "mehjabin.johra00@gmail.com\n",
            "eklasrh@yahoo.com\n",
            "emonnatbd@gmail.com\n",
            "atahiyat171187@bscse.uiu.ac.bd\n",
            "partharaj.dev@gmail.com\n",
            "abir71.hosen@gmail.com\n",
            "ashifikbal980@gmail.com\n",
            "ya.ahmed.19@gmail.com\n",
            "ziauddinsameer@gmail.com\n",
            "018maruf@gmail.com\n",
            "halkawser@gmail.com\n",
            "prantomondal517@gmail.com\n",
            "mdshamsaraf.shovon@gmail.com\n",
            "mdsabbir.jas.bd@gmail.com\n",
            "efat.azher@gmail.com\n",
            "rantaroy1997@gmail.com\n",
            "mdbiplobhridoy68@gmail.com\n",
            "sumon.ahmad@northsouth.edu\n",
            "romman.kaiser@gmail.com\n",
            "mizikarim42@gmail.com\n",
            "panthaistiaque@gmail.com\n",
            "shadman_ahsan@yahoo.com\n",
            "zarinhossain31@gmail.com\n",
            "mdimran.ml109@gmail.com\n",
            "fakhrulasa@gmail.com\n",
            "liton079@gmail.com\n",
            "saiffardin@gmail.com\n",
            "lamiyakabir36@gmail.com\n",
            "hridoyjbd@gmail.com\n",
            "68\n"
          ]
        }
      ]
    },
    {
      "cell_type": "code",
      "source": [
        "result_path = folder_path + '/result/'"
      ],
      "metadata": {
        "id": "b9oXObEBSw0I"
      },
      "execution_count": 8,
      "outputs": []
    },
    {
      "cell_type": "code",
      "source": [
        "import pandas as pd"
      ],
      "metadata": {
        "id": "pKEcxfgSTCPF"
      },
      "execution_count": 9,
      "outputs": []
    },
    {
      "cell_type": "code",
      "source": [
        "PHONE_REG = re.compile(r'[\\+\\(]?[1-9][0-9 .\\-\\(\\)]{8,}[0-9]')\n",
        "# PHONE_REG = re.compile(r'(^([+]{1}[8]{2}|0088)?(01){1}[3-9]{1}\\d{8})$')\n",
        "EMAIL_REG = re.compile(r'[a-z0-9\\.\\-+_]+@[a-z0-9\\.\\-+_]+\\.[a-z]+')\n",
        " \n",
        " \n",
        "def extract_text_from_pdf(pdf_path):\n",
        "    return extract_text(pdf_path)\n",
        " \n",
        " \n",
        "def extract_emails(resume_text):\n",
        "    return re.findall(EMAIL_REG, resume_text)\n",
        "\n",
        "\n",
        "def extract_phone_number(resume_text):\n",
        "    phone = re.findall(PHONE_REG, resume_text)\n",
        "\n",
        "    if phone:\n",
        "        number = ''.join(phone[0])\n",
        "\n",
        "        if resume_text.find(number) >= 0 and len(number) < 16:\n",
        "            return number\n",
        "    return None\n",
        "\n",
        "file_count = 0\n",
        "\n",
        "if __name__ == '__main__':\n",
        "    numbers_list = []\n",
        "    emails_list = []\n",
        "\n",
        "    all_numbers = []\n",
        "    all_emails = []\n",
        "    \n",
        "    for filename in glob.glob(os.path.join(folder_path, '*.pdf')):\n",
        "        with open(os.path.join(os.getcwd(), filename), 'r', encoding=\"utf8\", errors='ignore') as f:\n",
        "            file_count += 1\n",
        "            print(\"File \", file_count, end=', ')\n",
        "            no_phone = False\n",
        "            no_email = False\n",
        "\n",
        "            text = extract_text_from_pdf(filename)\n",
        "            \n",
        "            phone_number = extract_phone_number(text)\n",
        "\n",
        "            if phone_number:\n",
        "                if any(x in phone_number for  x in [' ', '-', ')', '(']):\n",
        "                    phone_number = phone_number.replace(' ', '')\n",
        "                    phone_number = phone_number.replace('-', '')\n",
        "                    phone_number = phone_number.replace(')', '')\n",
        "                    phone_number = phone_number.replace('(', '')\n",
        "\n",
        "                if phone_number[0] == '+':\n",
        "                    phone_number = phone_number[3:] \n",
        "                elif phone_number[0] == '1':\n",
        "                    phone_number = '0' + phone_number\n",
        "\n",
        "                if len(phone_number) < 11:\n",
        "                    continue\n",
        "              \n",
        "                print(phone_number, end=', ')  # noqa: T001 \n",
        "\n",
        "                numbers_list.append(phone_number)\n",
        "\n",
        "                all_numbers.append(phone_number) \n",
        "\n",
        "            else:\n",
        "                no_phone = True\n",
        "                print(\"No Phone Number\", end=', ')\n",
        "\n",
        "                all_numbers.append(None) \n",
        "\n",
        "            emails = extract_emails(text)\n",
        "\n",
        "            if emails:\n",
        "                print(emails[0])  # noqa: T001\n",
        "            \n",
        "                emails_list.append(emails[0])\n",
        "\n",
        "                all_emails.append(emails[0])\n",
        "\n",
        "            else: \n",
        "                no_email = True\n",
        "                print(\"No Email\")\n",
        "\n",
        "                all_emails.append(None)\n",
        "\n",
        "            if no_phone and no_email:\n",
        "                print(\"No information found on \", filename)\n",
        "\n",
        "    save_mobiles = 'mobile_numbers.csv'\n",
        "    save_emails = 'emails.csv'\n",
        "\n",
        "    outdir = folder_path + '/result'\n",
        "    \n",
        "    if not os.path.exists(outdir):\n",
        "        os.mkdir(outdir)\n",
        "\n",
        "    mobile_file = os.path.join(outdir, save_mobiles)    \n",
        "    email_file = os.path.join(outdir, save_emails)    \n",
        "      \n",
        "    # df = pd.DataFrame(numbers_list, columns=[\"Numbers\"])\n",
        "    # df.to_csv(mobile_file, index=False)\n",
        "    # df_ = pd.DataFrame(emails_list, columns=[\"Emails\"])\n",
        "    # df_.to_csv(email_file, index=False)"
      ],
      "metadata": {
        "colab": {
          "base_uri": "https://localhost:8080/"
        },
        "id": "treVTHrs2smR",
        "outputId": "42930c0e-fe6d-444c-e523-4992f5a13833"
      },
      "execution_count": 16,
      "outputs": [
        {
          "output_type": "stream",
          "name": "stdout",
          "text": [
            "File  1, 01687422428, marufalam120@gmail.com\n",
            "File  2, 01304097172, ehteshamul.haque1998@gmail.com\n",
            "File  3, 01516105170, kaziasifjawwad@gmail.com\n",
            "File  4, 01732854022, shirinaete38@gmail.com\n",
            "File  5, 01781660390, kzhsown@gmail.com\n",
            "File  6, 01753250010, mehedi32.cse.hstu@gmail.com\n",
            "File  7, 01610005918, rangakhan@gmail.com\n",
            "File  8, 01843771138, nafisulbari@gmail.com\n",
            "File  9, 01676890554, manwar162098@bscse.uiu.ac.bd\n",
            "File  10, 01712922516, gmsifulalam93@gmail.com\n",
            "File  11, 01856605725, shahalam.tasin@gmail.com\n",
            "File  12, 01737887114, tanvirh.masum07@gmail.com\n",
            "File  13, 01921772163, marockydc@gmail.com\n",
            "File  14, 01552652545, shefatmd@gmail.com\n",
            "File  15, No Phone Number, shossainshihab36@gmail.com\n",
            "File  16, 01761206457, aminarif.cs@gmail.com\n",
            "File  17, 01785904633, uchchwasdasdev@gmail.com\n",
            "File  18, 01923080440, lhossainduet094026@gmail.com\n",
            "File  19, No Phone Number, umonkumar9719@gmail.com\n",
            "File  20, 01794599066, joniyed.bhuiyan@gmail.com\n",
            "File  21, 01910546032, salauddinnayub@gmail.com\n",
            "File  22, 01624232502, srnoor95@gmail.com\n",
            "File  23, No Phone Number, ebrahimkhanobak@gmail.com\n",
            "File  24, 01303064685, zabir197281@gmail.com\n",
            "File  25, 01726407234, pervezdiu16@gmail.com\n",
            "File  26, 01789799872, ahnafahmed517@gmail.com\n",
            "File  27, File  28, 01710279904, mdmaharamali1995@gmail.com\n",
            "File  29, No Phone Number, tanviraj8910@gmail.com\n",
            "File  30, 01714463551, shahrear002@gmail.com\n",
            "File  31, No Phone Number, shuvopodder9@gmail.com\n",
            "File  32, 01517813363, akash.diu41@gmail.com\n",
            "File  33, 01773070231, asma.ul.hussna@g.bracu.ac.bd\n",
            "File  34, 01552416157, oaony005@gmail.com\n",
            "File  35, 01517038314, arkabhuiyancsedu@gmail.co\n",
            "File  36, 01516788825, skmilton10@gmail.com\n",
            "File  37, 01878941019, tanvir.joy2419@gmail.com\n",
            "File  38, 01764458438, mdsulaiman535@gmail.com\n",
            "File  39, 01935060120, tajuddinahmed450@gmail.com\n",
            "File  40, 01734570053, mehjabin.johra00@gmail.com\n",
            "File  41, 01794120422, eklasrh@yahoo.com\n",
            "File  42, 01748952561, No Email\n",
            "File  43, 01303146132, emonnatbd@gmail.com\n",
            "File  44, 01648159244, atahiyat171187@bscse.uiu.ac.bd\n",
            "File  45, 01747750376, partharaj.dev@gmail.com\n",
            "File  46, 01323987404, abir71.hosen@gmail.com\n",
            "File  47, 01516162934, ashifikbal980@gmail.com\n",
            "File  48, 01709060025, ya.ahmed.19@gmail.com\n",
            "File  49, 01521325457, ziauddinsameer@gmail.com\n",
            "File  50, 01319641837, 018maruf@gmail.com\n",
            "File  51, File  52, 01781100621, prantomondal517@gmail.com\n",
            "File  53, 01521432318, mdshamsaraf.shovon@gmail.com\n",
            "File  54, 01964913828, mdsabbir.jas.bd@gmail.com\n",
            "File  55, 01679365164, efat.azher@gmail.com\n",
            "File  56, No Phone Number, No Email\n",
            "No information found on  /content/drive/MyDrive/ROKOMARI/java_dev_python_works/data/Md.+Rasel+Mahmud+CV+Software+Developer+Intern.pdf\n",
            "File  57, 01624657152, rantaroy1997@gmail.com\n",
            "File  58, No Phone Number, mdbiplobhridoy68@gmail.com\n",
            "File  59, 01837786875, sumon.ahmad@northsouth.edu\n",
            "File  60, No Phone Number, romman.kaiser@gmail.com\n",
            "File  61, File  62, 01726172283, panthaistiaque@gmail.com\n",
            "File  63, 01680041124, shadman_ahsan@yahoo.com\n",
            "File  64, No Phone Number, No Email\n",
            "No information found on  /content/drive/MyDrive/ROKOMARI/java_dev_python_works/data/Tassnim+Jaman+Joti+CV.pdf\n",
            "File  65, 01717232980, zarinhossain31@gmail.com\n",
            "File  66, 01554884257, mdimran.ml109@gmail.com\n",
            "File  67, 01308035653, fakhrulasa@gmail.com\n",
            "File  68, 01521481658, liton079@gmail.com\n",
            "File  69, 01795772663, saiffardin@gmail.com\n",
            "File  70, 01799928339, lamiyakabir36@gmail.com\n",
            "File  71, 01712680010, hridoyjbd@gmail.com\n"
          ]
        }
      ]
    },
    {
      "cell_type": "code",
      "source": [
        "df_emails = pd.DataFrame(all_emails, columns=[\"Emails\"])\n",
        "df_numbers = pd.DataFrame(all_numbers, columns=[\"Numbers\"])"
      ],
      "metadata": {
        "id": "o48I2vplrYJ-"
      },
      "execution_count": 17,
      "outputs": []
    },
    {
      "cell_type": "code",
      "source": [
        "print(df_emails)"
      ],
      "metadata": {
        "colab": {
          "base_uri": "https://localhost:8080/"
        },
        "id": "8EfoLnQisVvc",
        "outputId": "5d3ab302-a569-4a16-b479-709f52a83b5e"
      },
      "execution_count": 18,
      "outputs": [
        {
          "output_type": "stream",
          "name": "stdout",
          "text": [
            "                            Emails\n",
            "0           marufalam120@gmail.com\n",
            "1   ehteshamul.haque1998@gmail.com\n",
            "2         kaziasifjawwad@gmail.com\n",
            "3           shirinaete38@gmail.com\n",
            "4                kzhsown@gmail.com\n",
            "..                             ...\n",
            "63            fakhrulasa@gmail.com\n",
            "64              liton079@gmail.com\n",
            "65            saiffardin@gmail.com\n",
            "66         lamiyakabir36@gmail.com\n",
            "67             hridoyjbd@gmail.com\n",
            "\n",
            "[68 rows x 1 columns]\n"
          ]
        }
      ]
    },
    {
      "cell_type": "code",
      "source": [
        "print(df_numbers)"
      ],
      "metadata": {
        "colab": {
          "base_uri": "https://localhost:8080/"
        },
        "id": "Uw4o7iEasXsu",
        "outputId": "67553081-28eb-42ce-e55b-2e7dba9671c3"
      },
      "execution_count": 19,
      "outputs": [
        {
          "output_type": "stream",
          "name": "stdout",
          "text": [
            "        Numbers\n",
            "0   01687422428\n",
            "1   01304097172\n",
            "2   01516105170\n",
            "3   01732854022\n",
            "4   01781660390\n",
            "..          ...\n",
            "63  01308035653\n",
            "64  01521481658\n",
            "65  01795772663\n",
            "66  01799928339\n",
            "67  01712680010\n",
            "\n",
            "[68 rows x 1 columns]\n"
          ]
        }
      ]
    },
    {
      "cell_type": "code",
      "source": [
        "df_emails = pd.DataFrame(all_numbers, columns=[\"Numbers\"])\n",
        "df_emails.to_csv(mobile_file, index=False)\n",
        "df_numbers = pd.DataFrame(all_emails, columns=[\"Emails\"])\n",
        "df_numbers.to_csv(email_file, index=False)"
      ],
      "metadata": {
        "id": "a9hUYkJcl-_P"
      },
      "execution_count": 20,
      "outputs": []
    },
    {
      "cell_type": "code",
      "source": [
        "save_candidates = 'candidates.csv'\n",
        "\n",
        "candidates_file = os.path.join(outdir, save_candidates)    \n",
        "\n",
        "df_numbers_emails = pd.concat([df_numbers, df_emails], axis=1, ignore_index=False)\n",
        "df_numbers_emails.to_csv(candidates_file, index=False)"
      ],
      "metadata": {
        "id": "qCrSJcXvnn4P"
      },
      "execution_count": 22,
      "outputs": []
    },
    {
      "cell_type": "code",
      "source": [
        "# mobile_list = []\n",
        "\n",
        "# if __name__ == '__main__':\n",
        "#     for filename in glob.glob(os.path.join(folder_path, '*.pdf')):\n",
        "#         with open(os.path.join(os.getcwd(), filename), 'r', encoding=\"utf8\", errors='ignore') as f:\n",
        "#             #file_path = folder_path + filename\n",
        "#             # print(filename)\n",
        "            \n",
        "#             text = extract_text(filename)\n",
        "            \n",
        "#             #print(text)\n",
        "\n",
        "#             #mobile_list.append(re.findall(r'/(^(\\+88|0088)?(01){1}[3456789]{1}(\\d){8})$/', text))\n",
        "#             mobile_list.append(re.findall(r'^01', text))\n",
        "\n",
        "                    \n",
        "#     for number in mobile_list:\n",
        "#         print(number)\n",
        "#         if number != []:\n",
        "#             for elem in number:\n",
        "#                 #if elem[:2] == \"01\":\n",
        "#                 print(elem)"
      ],
      "metadata": {
        "id": "ecx8itLH6fSD"
      },
      "execution_count": null,
      "outputs": []
    }
  ]
}